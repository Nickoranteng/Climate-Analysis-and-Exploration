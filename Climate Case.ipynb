{
 "cells": [
  {
   "cell_type": "code",
   "execution_count": null,
   "metadata": {},
   "outputs": [],
   "source": [
    "# -*- coding: utf-8 -*-\n",
    "#%%\n",
    "import pandas as pd\n",
    "import sqlalchemy\n",
    "from sqlalchemy import create_engine\n",
    "from flask import Flask\n",
    "#%%\n",
    "engine = create_engine('sqlite:///Resources/hawaii.sqlite')\n",
    "#%%\n",
    "app = Flask(__name__)\n",
    "#%%\n",
    "print('testing')\n",
    "@app.route('/api/v1.0/precipitation')\n",
    "def prcp():\n",
    "    conn = engine.connect()\n",
    "    query = f'''\n",
    "        SELECT \n",
    "            date,\n",
    "            AVG(prcp) as avg_prcp\n",
    "        FROM\n",
    "            measurement\n",
    "        WHERE\n",
    "            date >= (SELECT DATE(MAX(date),'-1 year') FROM measurement)\n",
    "        GROUP BY\n",
    "            date\n",
    "        ORDER BY \n",
    "            date\n",
    "    '''\n",
    "    # Save the query results as a Pandas DataFrame and set the index to the date column\n",
    "    prcp_df = pd.read_sql(query, conn)\n",
    "    # Convert the date column to date\n",
    "    prcp_df['date'] = pd.to_datetime(prcp_df['date'])\n",
    "    # Sort the dataframe by date\n",
    "    prcp_df.sort_values('date')\n",
    "    prcp_json = prcp_df.to_json(orient='records')\n",
    "    conn.close()\n",
    "    return prcp_json\n",
    "#%%\n",
    "if __name__ == '__main__':\n",
    "    app.run(debug=True)    \n",
    "#%%\n",
    "'''\n",
    "/api/v1.0/precipitation\n",
    "Convert the query results to a dictionary using date as the key and prcp as the value.\n",
    "Return the JSON representation of your dictionary.\n",
    "/api/v1.0/stations\n",
    "Return a JSON list of stations from the dataset.\n",
    "'''"
   ]
  }
 ],
 "metadata": {
  "kernelspec": {
   "display_name": "Python 3",
   "language": "python",
   "name": "python3"
  },
  "language_info": {
   "codemirror_mode": {
    "name": "ipython",
    "version": 3
   },
   "file_extension": ".py",
   "mimetype": "text/x-python",
   "name": "python",
   "nbconvert_exporter": "python",
   "pygments_lexer": "ipython3",
   "version": "3.8.3"
  }
 },
 "nbformat": 4,
 "nbformat_minor": 4
}
